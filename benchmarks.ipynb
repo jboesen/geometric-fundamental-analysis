{
 "cells": [
  {
   "cell_type": "code",
   "execution_count": 68,
   "metadata": {},
   "outputs": [],
   "source": [
    "import json\n",
    "import os\n",
    "import pandas as pd\n",
    "import torch\n",
    "import pickle \n",
    "import numpy as np\n",
    "import torch\n",
    "import torch.nn as nn\n",
    "from torch.utils.data import TensorDataset, DataLoader\n",
    "from sklearn.decomposition import PCA\n",
    "import matplotlib.pyplot as plt"
   ]
  },
  {
   "cell_type": "markdown",
   "metadata": {},
   "source": [
    "# Data Cleaning"
   ]
  },
  {
   "cell_type": "code",
   "execution_count": 69,
   "metadata": {},
   "outputs": [],
   "source": [
    "with open('Y.json', 'r') as file:\n",
    "    y = json.load(file)"
   ]
  },
  {
   "cell_type": "code",
   "execution_count": 70,
   "metadata": {},
   "outputs": [],
   "source": [
    "dt = {}\n",
    "all_cols = None\n",
    "y_list = []\n",
    "for file in os.listdir('filtered_dt_428'):\n",
    "    if file.endswith('.csv'):\n",
    "        k = file.split('_')[0]\n",
    "        if k in y:\n",
    "            dt[k] = pd.read_csv(os.path.join('filtered_dt_428', file))\n",
    "            dt[k] = dt[k].loc[:, ~dt[k].columns.duplicated()]\n",
    "            dt[k] = dt[k].reindex(sorted(dt[k].columns), axis=1)\n",
    "            y_list.append(y[k])"
   ]
  },
  {
   "cell_type": "code",
   "execution_count": 71,
   "metadata": {},
   "outputs": [
    {
     "data": {
      "text/plain": [
       "dict_keys(['SBBP', 'WTT', 'RLGY', 'UNFI', 'JAN', 'URS', 'HROW', 'COV', 'DSNY', 'VTSS', 'DNDN', 'GEOS', 'XRX', 'JCS', 'ARTX', 'MRAM', 'JACK', 'SEAS', 'AFFX', 'NP', 'VSYS', 'SPGI', 'LCAV', 'W', 'SLH', 'SSD', 'ROCK', 'SNBR', 'CTAS', 'ZBRA', 'LL', 'MPSX', 'GLUX', 'BLFS', 'CVO', 'GAXY', 'APH', 'SCOR', 'RHI', 'PTEN', 'JOUT', 'CTS', 'NYNY', 'HZNP', 'BURL', 'SPWR', 'CYNO', 'QUMU', 'HIBB', 'EXAC', 'UPLD', 'HD', 'MTDR', 'OESX', 'VMD', 'WH', 'HUN', 'PLAB', 'OOMA', 'PEP', 'INTC', 'SWM', 'MYDX', 'UNVR', 'GSB', 'CULP', 'PHAT', 'NLS', 'WGBS', 'PKT', 'BRID', 'ACTA', 'CTIB', 'VSLR', 'CYTX', 'NVOS', 'SCWX', 'CST', 'ZIPR', 'ALRM', 'OLLI', 'RTIX', 'LECO', 'TCRR', 'TEG', 'SLQT', 'UNP', 'OSW', 'AMOT', 'DDD', 'WAT', 'ARAY', 'INSE', 'PAYC', 'VWR', 'RS', 'FTLF', 'RCKY', 'ADSK', 'DIN', 'ITT', 'CUDA', 'STXS', 'RTK', 'SFIX', 'TZOO', 'ANV', 'WNC', 'DKS', 'MTSN', 'TCS', 'PATI', 'ALJ', 'VICR', 'CBPO', 'CSLT', 'VZ', 'EVK', 'QNST', 'RILY', 'MLI', 'RKUS', 'CISN', 'TG', 'HIL', 'EVRG', 'CRSP', 'GNTX', 'KBALB', 'ZAYO', 'JNS', 'BREW', 'ASPS', 'SJW', 'STRT', 'CROX', 'ADP', 'TTD', 'UNTD', 'HTWR', 'DCI', 'POST', 'COLM', 'DRAM', 'ARMK', 'AAWW', 'CCEL', 'QES', 'BURG', 'REPR', 'AON', 'APC', 'SAH', 'CVD', 'GEF', 'WRK', 'NTNX', 'CP', 'JHG', 'NVGI', 'XYL', 'UPWK', 'FORM', 'ELAN', 'OSUR', 'OPGN', 'GOGO', 'GHM', 'AVNR', 'VOXX', 'STKL', 'ORN', 'OMC', 'APAGF', 'SLB', 'SVMK', 'PAR', 'ZIXI', 'MDCO', 'NOV', 'CRL', 'INFO', 'CRM', 'INFN', 'NOW', 'AMGN', 'EEFT', 'EDMC', 'XPO', 'DNB', 'MDAS', 'DOOR', 'RSG', 'REVG', 'ZUMZ', 'NRG', 'WISA', 'HCSG', 'FLIR', 'ATRC', 'IBP', 'SIX', 'REGN', 'AZO', 'MSO', 'PTRY', 'NMBL', 'BBSI', 'CCE', 'BNED', 'TCX', 'IIN', 'IVC', 'PCMI', 'USIO', 'BIRT', 'CTRL', 'ALTR', 'PEGA', 'TXTR', 'FNJN', 'ASGN', 'MEA', 'PRLB', 'EBS', 'TLRA', 'SIRO', 'FALC', 'IRBT', 'KALU', 'MHK', 'DRRX', 'LRAD', 'TESO', 'GNMK', 'SGMS', 'RLOC', 'GTN', 'BVSN', 'ERI', 'WAAS', 'MU', 'BTUI', 'WCC', 'CRWS', 'TTMI', 'LRCX', 'CARB', 'SMP', 'EOX', 'JKHY', 'HRC', 'GORO', 'CLR', 'KNSA', 'BRKR', 'ISRG', 'MMSI', 'BRKS', 'SALE', 'TEL', 'XSPA', 'HILL', 'SMED', 'CHUY', 'PGEN', 'ANIP', 'STAA', 'BGFV', 'PMFG', 'QCCO', 'GWPH', 'KFT', 'TRAK', 'JRN', 'RAVN', 'VNTV', 'MDRX', 'GPX', 'ANDE', 'DOCU', 'ABMD', 'CCRN', 'ONEM', 'SYNC', 'BWA', 'CDNA', 'VSCP', 'AMTD', 'SIF', 'CAG', 'EMMA', 'AXL', 'SIG', 'TVPT', 'SMAR', 'WLK', 'IGMS', 'CHE', 'GLDD', 'BCR', 'CHD', 'SAUC', 'TMDX', 'FRM', 'CMKG', 'PDLI', 'JNPR', 'NFLX', 'IFF', 'SLGN', 'EOG', 'EPAC', 'WERN', 'FCEL', 'SBUX', 'VRNS', 'TREC', 'AEHR', 'XCLL', 'LCTC', 'NOVS', 'FLWS', 'SITE', 'IONI', 'CNP', 'FII', 'LNKD', 'ECOL', 'ELTP', 'WWWW', 'LPSN', 'ECOM', 'MCK', 'LNTH', 'CLFD', 'HDS', 'DMS', 'IPI', 'UONE', 'TER', 'XLS', 'BSQR', 'HP', 'CHDN', 'NXST', 'MWIV', 'SWX', 'BTN', 'REYN', 'CRMZ', 'MOS', 'SNDR', 'CHFS', 'NKTX', 'UA', 'MILL', 'HWG', 'CONN', 'CBST', 'AMCX', 'REPL', 'ADMA', 'KSU', 'LUNA', 'HIVE', 'LPTH', 'ARA', 'CTG', 'CHRA', 'AR', 'AIRG', 'FLS', 'NEOM', 'TRN', 'GTES', 'ULTI', 'ENT', 'IGT', 'CGYG', 'ILIU', 'MOBL', 'MTW', 'STKS', 'B', 'DAKT', 'OTTR', 'ESE', 'RALY', 'ST', 'HWAY', 'TPR', 'NTAP', 'YHOO', 'REV', 'SFXE', 'PCP', 'AMSC', 'SNA', 'ASTE', 'FORR', 'ZLTQ', 'PIKE', 'KODK', 'LITE', 'AVGO', 'NHTC', 'DLA', 'ESYS', 'ATU', 'CRS', 'CLF', 'ROP', 'AAOI', 'WWD', 'NEWM', 'KIRK', 'CLDR', 'YUMC', 'IMS', 'PPSI', 'TXI', 'SANM', 'PBI', 'LCI', 'SPT', 'PBH', 'DFIN', 'NUTR', 'SCAI', 'RL', 'MA', 'NGS', 'TRGT', 'TRHC', 'CTRX', 'ACPW', 'PPO', 'OCR', 'BV', 'WSM', 'AEGN', 'TAP', 'BW', 'EBF', 'OCLN', 'AMBA', 'SYEV', 'RDEN', 'THS', 'THR', 'DLLR', 'GPS', 'EPZM', 'VECO', 'SYNH', 'CODI', 'LBRT', 'AZZ', 'EXP', 'FEEC', 'AITX', 'CVLT', 'TPIC', 'PRIM', 'GM', 'EUSP', 'NPO', 'NOC', 'CRY', 'CMT', 'BEAV', 'TUSK', 'COH', 'SGI', 'SGH', 'WBMD', 'ETSY', 'VIR', 'SRCL', 'IEC', 'HQY', 'HNT', 'POWI', 'TPX', 'MNTA', 'STVI', 'GRMM', 'DNMR', 'FCN', 'GHDX', 'RRTS', 'SOTK', 'TMH', 'CDW', 'KNDI', 'PAG', 'CALI', 'THMO', 'BPL', 'IMBI', 'H', 'ANSS', 'COST', 'CTL', 'UTIW', 'SHEN', 'BCOV', 'MPAA', 'PSDO', 'SCMP', 'PCLN', 'TRIP', 'AIRM', 'MIXT', 'NEOG', 'AMCR', 'ASCMA', 'CLCT', 'CRDS', 'CSOD', 'CSPI', 'CE', 'KLR', 'FND', 'MTOR', 'GES', 'PEN', 'MSGN', 'WDAY', 'NKTR', 'VASC', 'BELFB', 'STRA', 'BLBD', 'FLDM', 'CBB', 'WW', 'WFM', 'AERO', 'TLGT', 'BFAM', 'TLRY', 'KRA', 'ACRG', 'ESCC', 'UEIC', 'RTX', 'SCSC', 'SCLN', 'IVZ', 'KOP', 'CTMX', 'CMTL', 'LNN', 'NWE', 'BAH', 'PPC', 'INAP', 'DFRG', 'GUID', 'VSH', 'AFAM', 'VSI', 'WSTI', 'ICUI', 'ABMC', 'CHGG', 'TT', 'JOY', 'SLCA', 'GWRS', 'XCUR', 'NAII', 'FSTR', 'SHOO', 'IRTC', 'DRTT', 'NOVT', 'GOOG', 'CNW', 'TWTR', 'PKG', 'METC', 'TGI', 'ECPG', 'XSPY', 'PCTI', 'EDNT', 'MRIN', 'MRVC', 'VEEV', 'ACN', 'WAG', 'NUIN', 'MHR', 'YELL', 'EMKR', 'JRSH', 'ESSX', 'INSV', 'PFGC', 'TREE', 'CYBE', 'SNCR', 'MM', 'VSEC', 'VRNT', 'LGND', 'CECE', 'BBG', 'XRAY', 'DWDP', 'CNXN', 'ARG', 'SCL', 'TIVO', 'SINT', 'LMAT', 'POZN', 'MTRN', 'MENT', 'FLT', 'RAX', 'MCRS', 'NCSM', 'MRD', 'ADI', 'HW', 'ATNX', 'VMW', 'IKNX', 'CVCO', 'SPAN', 'OIS', 'MPX', 'BKD', 'AYX', 'BTH', 'BKE', 'SMID', 'VASO', 'JNJ', 'SSNC', 'PLCM', 'VPG', 'CETX', 'BDR', 'SHAK', 'SXI', 'IPCM', 'AMZG', 'FUL', 'IKAN', 'TDG', 'BBBY', 'LII', 'ATR', 'HSH', 'ENR', 'HWCC', 'ENS', 'ROAD', 'LNCR', 'IPHS', 'D', 'CALD', 'RWLK', 'PZZA', 'DGX', 'NLST', 'INRD', 'PETM', 'DAIO', 'NANO', 'OPK', 'SGMA', 'SPR', 'FOSL', 'RDI', 'MG', 'CECO', 'SXCL', 'EOPN', 'ORBT', 'CEB', 'GVA', 'TSQ', 'FSYS', 'CSL', 'STCN', 'YEXT', 'CPGI', 'INGN', 'GDEN', 'UNH', 'PSCO', 'EXPR', 'YUME', 'LSCC', 'AVDL', 'BIIB', 'BDTX', 'USX', 'EGAS', 'TXN', 'SBSA', 'RMBS', 'AKAM', 'ETN', 'RCMT', 'GME', 'CSGS', 'CNMD', 'TUBE', 'ICHR', 'VC', 'VLO', 'PMTS', 'PBPB', 'EVR', 'KFY', 'MTEX', 'WSTC', 'PRGO', 'ZEN', 'IO', 'MYGN', 'FDO', 'IRIX', 'BSPM', 'LXK', 'YEWB', 'CLVR', 'AEP', 'NATR', 'JJSF', 'ADNC', 'COMM', 'ELMD', 'NHC', 'ALR', 'ANN', 'CHH', 'BBGI', 'VIAV', 'NUS', 'AQB', 'HTLD', 'WBC', 'FSLR', 'APYX', 'MIK', 'ALGT', 'CPRI', 'CRTO', 'LQMT', 'CLSH', 'TRC', 'ZBH', 'UAVS', 'HSC', 'GWR', 'CMCSA', 'NH', 'TMO', 'PSTR', 'N', 'ASIX', 'VIRC', 'AKRX', 'XOOM', 'TTEK', 'UFAB', 'ALLK', 'BYI', 'SPSC', 'EV', 'QLYS', 'EW', 'COO', 'CPB', 'PFPT', 'RST', 'JBSS', 'ZEUS', 'BUFF', 'GLW', 'SSNI', 'TIF', 'CHYR', 'CTXS', 'PTSX', 'OKE', 'CBE', 'SABR', 'DMRC', 'FNKO', 'DLYT', 'PXLW', 'PNW', 'IOTS', 'HITT', 'AVAV', 'SNOA', 'FSS', 'ACLS', 'CVV', 'FARO', 'ELNK', 'SAIL', 'WMT', 'WLMS', 'HAE', 'UMRX', 'RNGR', 'KGJI', 'SMRT', 'SPXC', 'CVEO', 'OMN', 'NYT', 'DNOW', 'MTD', 'ORB', 'AEIS', 'ADBE', 'EXEL', 'BMRN', 'MNTX', 'PETX', 'TERP', 'SPLP', 'JAH', 'WTS', 'FKWL', 'FHI', 'LGFA', 'SCIA', 'XON', 'TYC', 'VVUS', 'LTM', 'COP', 'LOCO', 'ICFI', 'CSII', 'WCRX', 'HES', 'PLNR', 'BUKS', 'KHC', 'FISV', 'GT', 'UPI', 'ARKR', 'ENSV', 'DLPH', 'TYHT', 'CBZ', 'BOOM', 'PSMT', 'MDSY', 'VRTV', 'WYY', 'WFT', 'VMC', 'EGRX', 'CLUB', 'ILMN', 'FRAN', 'WLDN', 'MCFT', 'GSIT', 'PSX', 'CVH', 'TIKK', 'PLT', 'LDRH', 'ECL', 'CYLU', 'BCPC', 'IPGP', 'SNPS', 'PRPL', 'AA', 'WOW', 'FSL', 'NGVT', 'FWRD', 'CYNI', 'AIRT', 'DUK', 'CSCD', 'DLHC', 'THLD', 'HYMC', 'GIS', 'TSN', 'SLXP', 'PI', 'BGMD', 'PH', 'AMRC', 'SYUT', 'CGA', 'MCHP', 'NKLA', 'HPR', 'VRNA', 'BWXT', 'EIGI', 'WCN', 'AWI', 'IRDM', 'CNC', 'IRF', 'LBTYA', 'ACIW', 'HAIN', 'ANTM', 'FTK', 'SNHY', 'FF', 'CVRS', 'PLPM', 'FDP', 'EVOP', 'ZEP', 'TLYS', 'SOLY', 'GPK', 'STE', 'SKH', 'UFPT', 'CCI', 'TGNA', 'CCMP', 'INWK', 'PDEX', 'SWAV', 'MSC', 'ASNA', 'CDNS', 'ATRO', 'TQNT', 'NXPI', 'FEIC', 'OSMT', 'LEE', 'CAT', 'AGR', 'RBC', 'EMMS', 'LABL', 'RPAY', 'WST', 'WMGI', 'KMX', 'DVD', 'CELG', 'MERC', 'PLKI', 'PUMP', 'CREX', 'INCY', 'MTSI', 'PODD', 'RVP', 'COMS', 'KRTX', 'ALKS', 'MORN', 'SCS', 'LOGM', 'PFTI', 'AMT', 'MDT', 'ARX', 'MDU', 'DEWY', 'UVV', 'TLND', 'WPP', 'CTLT', 'LIME', 'AFIB', 'ATGE', 'APD', 'OPWR', 'CVC', 'EBAY', 'MYE', 'BBY', 'UBIQ', 'LIOX', 'CW', 'CERS', 'JANL', 'ESTA', 'SNDK', 'DECK', 'UNIS', 'DAR', 'ICE', 'WDC', 'HHS', 'MCRL', 'CNQR', 'BIG', 'CPIX', 'VITC', 'HI', 'TTC', 'DCO', 'VMI', 'GIII', 'EXC', 'DST', 'ZTS', 'CVLG', 'AWSM', 'INO', 'TDY', 'ITRM', 'CRK', 'CMG', 'VERU', 'EB', 'ZVO', 'RSTI', 'APPN', 'KLIC', 'KATY', 'TDOC', 'NSIT', 'KEQU', 'SM', 'DXPE', 'AJRD', 'PETS', 'BRC', 'MRUS', 'GLUU', 'SNX', 'CFX', 'KTOS', 'TRW', 'PSTG', 'AXAS', 'NTCT', 'GMCR', 'BRCD', 'MAMS', 'DATA', 'SVRA', 'MKC', 'ABC', 'CDE', 'OME', 'GRPN', 'ESPI', 'MTSC', 'III', 'OFIX', 'IZEA', 'ALG', 'RELV', 'BE', 'EXTN', 'MIDD', 'AMBR', 'LAKE', 'SIRI', 'VIAB', 'ICAD', 'KNWN', 'ARNC', 'SMHI', 'IDIX', 'KDP', 'TMPS', 'SRDX', 'SEMG', 'REGI', 'AGX', 'NCI', 'MNST', 'PTON', 'TUP', 'NDLS', 'SLAB', 'VSAT', 'BONU', 'AEE', 'CCC', 'OSPN', 'IBAL', 'MSI', 'CSX', 'WTER', 'FOXF', 'PVH', 'BAND', 'XTNT', 'JBL', 'WWW', 'NVRO', 'FUSN', 'IDDR', 'DTSI', 'ELVT', 'MAXR', 'IRM', 'DOW', 'USM', 'ADUS', 'MWA', 'AAL', 'AMRI', 'CLRO', 'IRMD', 'SGRY', 'KRFT', 'HPY', 'HOT', 'BJRI', 'MR', 'ARCI', 'LOVE', 'ARCH', 'CSCO', 'APEN', 'ABKI', 'DXLG', 'BWEN', 'SSTK', 'HYRE', 'RCII', 'NVDA', 'SNAP', 'YUMA', 'CNX', 'PKI', 'AWR', 'BZC', 'WIRE', 'AHCO', 'KDMN', 'SPRT', 'FLUG', 'VTOL', 'QTWW', 'STCK', 'IOSP', 'BGS', 'SPPI', 'ENDP', 'ACA', 'SMG', 'RFP', 'TYPE', 'OSK', 'MRVL', 'SLGG', 'PS', 'TORM', 'VRSK', 'MTCH', 'TSLA', 'TCDA', 'RBBN', 'EPC', 'CLMS', 'INSY', 'SPW', 'KLAC', 'EMR', 'EGHT', 'VCRA', 'GTX', 'ITI', 'DIS', 'TRUP', 'HEAR', 'WSO', 'ADSW', 'ILED', 'VIAS', 'SQBG', 'CDEV', 'TLOG', 'RVIV', 'RIG', 'PPL', 'CABO', 'ALV', 'NDSN', 'LXFR', 'VLRX', 'VG', 'DZSI', 'LYRI', 'WSTG', 'REZI', 'CMBM', 'HAYN', 'ZAGG', 'BNGO', 'HBIO', 'CETV', 'MICR', 'SPLK', 'ISNS', 'SGK', 'AMED', 'AVA', 'GDDY', 'UPS', 'OUTR', 'ISSC', 'ALLO', 'BFA', 'XELA', 'NVEC', 'GWW', 'CVET', 'TACT', 'RXN', 'SIAL', 'K', 'CVGI', 'ATUS', 'EACO', 'GNLN', 'BRS', 'GRMN', 'LBY', 'APT', 'CVS', 'SKUL', 'HALO', 'NXGN', 'CF', 'AMD', 'PNR', 'RHT', 'AME', 'APTV', 'RTNB', 'NEPH', 'KNL', 'XPEL', 'NTLS', 'CTSH', 'AIMC', 'LULU', 'CRON', 'BELFA', 'ININ', 'MRK', 'XXIA', 'SUM', 'SHLO', 'HY', 'VRT', 'LDL', 'QUOT', 'YETI', 'NPTN', 'OVTI', 'ATSG', 'SAAS', 'PCYG', 'IBM', 'MSFT', 'NCR', 'GLRI', 'HUBG', 'WSTL', 'PRXL', 'VSM', 'SYNA', 'OUT', 'CODA', 'SKX', 'LMIA', 'VEC', 'PRNB', 'FMC', 'PCRX', 'ENTA', 'RELL', 'QUES', 'ICCC', 'CBPX', 'PPG', 'ACOR', 'OTEX', 'KMI', 'CWK', 'SUSS', 'JPEP', 'MXL', 'TGEN', 'CMVT', 'AMRS', 'VINO', 'DNLI', 'CRUS', 'VXRT', 'EYPT', 'PRCH', 'HON', 'TENB', 'NARI', 'CRWN', 'PWFL', 'LBTI', 'WAB', 'SNAK', 'USFD', 'UBER', 'UAHC', 'RUBY', 'AAPL', 'NMRK', 'MSTR', 'ROX', 'CGNX', 'SFS', 'RMD', 'HLIT', 'ENPH', 'MAT', 'PTN', 'CNS', 'AXTI', 'QLGC', 'HSKA', 'INTT', 'SWBI', 'DNKN', 'SIEN', 'PEG', 'TIBX', 'VIVE', 'INTU', 'SHW', 'CBEY', 'MXPT', 'LYV', 'RFIL', 'ADM', 'MMM', 'STRI', 'ANET', 'PACB', 'IAC', 'CKH', 'ARC', 'SCI', 'AQ', 'GGG', 'AP', 'CVX', 'JNCE', 'ATEC', 'MESA', 'CL', 'ADRO', 'VVV', 'TMHC', 'MXIM', 'AVLR', 'ZYME', 'ENV', 'TNGO', 'TMUS', 'CYAN', 'A', 'EQIX', 'EGT', 'HZN', 'GTLS', 'TDC', 'GD', 'HZO', 'DLB', 'ALLE', 'ISSI', 'ENLK', 'ATW', 'ENSG', 'GCO', 'OWPC', 'EPIQ', 'LKQ', 'BVN', 'PHMD', 'HSIC', 'MMS', 'PTSI', 'VRTX', 'MDLZ', 'VRA', 'JLL', 'HL', 'OII', 'ELGX', 'AOSL', 'GPRE', 'DWRE', 'LWAY', 'FSCT', 'NSPH', 'AOL', 'KLD', 'PAHC', 'MDP', 'LOGI', 'JAZZ', 'CACH', 'KNX', 'FLO', 'PPIH', 'TBI', 'TRS', 'UFI', 'PLXS', 'FIZZ', 'TRR', 'FCX', 'JUNO', 'VRRM', 'IPHI', 'LLEN', 'ABG', 'LMNX', 'BGNE', 'LE', 'VVI', 'ANAB', 'SYKE', 'TXGE', 'BMRA', 'SAPE', 'DEST', 'BKNG', 'IESC', 'HXL', 'PANW', 'CWEI', 'JAG', 'AVT', 'APOG', 'BLOX', 'RLH', 'MRCY', 'CPS', 'AVGR', 'SPNC', 'FUV', 'FURX', 'ITRI', 'PFMT', 'ATI', 'HNSN', 'CMC', 'DBX', 'IIIV', 'VSR', 'RCPT', 'PYPL', 'MSM', 'CCF', 'STJ', 'TRCK', 'WAGE', 'ATML', 'TWI', 'OWW', 'FBHS', 'IMXI', 'FLGT', 'COYN', 'LFUS', 'GTIV', 'BA', 'CDXS', 'BCO', 'BMCH', 'ONNN', 'KALV', 'CTRN', 'FWLT', 'CJJD', 'CVTI', 'FRP', 'CENT', 'UTHR', 'ALB', 'PINC', 'CUI', 'MASI', 'RUTH', 'OSIS', 'ACU', 'BRBR', 'PG', 'GVP', 'XEL', 'PLYA', 'MHH', 'SON', 'NVFY', 'CUTR', 'MXWL', 'KROS', 'SFM', 'BLNK', 'QUAD', 'NOVN', 'PGEM', 'USMD', 'DT', 'FDML', 'FIT', 'WMAR', 'FOGO', 'ROG', 'BBCP', 'BGG', 'FFIV', 'DRC', 'HURC', 'PLPC', 'EFX', 'NUAN', 'DENN', 'KWK', 'USNA', 'ITMN', 'ADVS', 'FDNH', 'JCP', 'TROX', 'JOSB', 'EMAN', 'CMI', 'PKOH', 'BLMN', 'EL', 'PRTA', 'AGFS', 'IDGS', 'SCIE', 'ITOS', 'ADTN', 'VOLC', 'CTHR', 'ALQA', 'BDC', 'LOCK', 'COT', 'GIMO', 'CVGW', 'HNH', 'YONG', 'LO', 'IILG', 'PCG', 'ALGN', 'ICON', 'MEAS', 'FCS', 'TSRA', 'ENB', 'NR', 'HLT', 'T', 'CASY', 'KOPN', 'SWFT', 'SGNT', 'CDK', 'INPH', 'CSBR', 'ABM', 'ARW', 'CTP', 'RNET', 'CHRW', 'WOR', 'KAMN', 'AMCO', 'CRDN', 'CVM', 'IMPR', 'HTCH', 'GEO', 'CY', 'PDFS', 'LDR', 'MOD', 'AYI', 'RTEC', 'PBSV', 'AUXO', 'SMIT', 'NTGR', 'LYB', 'RAH', 'VITL', 'STMP', 'HSII', 'MODN', 'ATNI', 'HUM', 'CHDX', 'WK', 'KRMD', 'CSV', 'FB', 'MGPI', 'DTLK', 'DMD', 'PCTY', 'BEBE', 'FC', 'ZUO', 'NEWP', 'COVS', 'TWTC', 'SYK', 'COVR', 'TUMI', 'DYSL', 'SPH', 'NES', 'INSG', 'ONE', 'WDFC', 'RP', 'FTSI', 'EML', 'TPCS', 'ATKR', 'OMQS', 'CRAWA', 'PGNX', 'RECN', 'MLNX', 'WIFI', 'PGNY', 'PM', 'AYTU', 'KVHI', 'TLF', 'ZNGA', 'SBGI', 'SCSS', 'SUNW', 'BAX', 'DAEG', 'BIOL', 'ITW', 'LIND', 'DVA', 'OTEL', 'KBAL', 'RTI', 'PRO', 'OAS', 'CHS', 'PMC', 'TE', 'LEA', 'FLXS', 'GPN', 'HUBS', 'IT', 'NATH', 'CPHD', 'CCL', 'GRWG', 'APG', 'CVA', 'SAM', 'SWKS', 'CAAS', 'AMCC', 'HAS', 'DHR', 'HAR', 'UTI', 'WMB', 'CKP', 'CNXR', 'ZMH', 'CBS', 'MRX', 'BID', 'ASPW', 'SHSP', 'GMED', 'CBR', 'MCRN', 'SPAR', 'QCOR', 'EXAM', 'GPRC', 'SWC', 'ESTC', 'GSM', 'EA', 'HGG', 'TSYS', 'ZM', 'IXYS', 'SXT', 'LLNW', 'PDII', 'SPNE', 'EXA', 'HTGM', 'ERMS', 'CME', 'NOR', 'SEE', 'NSTG', 'CRI', 'CMD', 'TRT', 'HLX', 'AVNW', 'KAI', 'PLXT', 'XRSC', 'CCUR', 'OMG', 'JSDA', 'X', 'CALX', 'WFCF', 'TPI', 'SAFM', 'JWN', 'LB', 'MKSI', 'WBT', 'SQNM', 'GDOT', 'ALXN', 'BMMJ', 'ANAD', 'RYAM', 'PETQ', 'BIOA', 'TLRD', 'KFRC', 'CIEN', 'BG', 'ZQK', 'FIVE', 'ANY', 'NUE', 'ISIG', 'MSON', 'SIMG', 'EZPW', 'PSEM', 'OKTA', 'MED', 'XWES', 'ALTV', 'OCC', 'ALE', 'BSFT', 'WGO', 'FDX', 'CHEF', 'PRGX', 'LBMH', 'NAV', 'LPCN', 'ONEW', 'GMS', 'VNE', 'PRED', 'MKTO', 'THC', 'SONM', 'KE', 'TH', 'MIME', 'EVRI', 'STNR', 'SHOR', 'AMKR', 'TISI', 'RVRA', 'AOBC', 'CNK', 'LUV', 'HDSN', 'JELD', 'FTEK', 'DISCA', 'FIS', 'FNSR', 'MNAP', 'RPM', 'MCP', 'LCII', 'PHCG', 'CRAY', 'CLW', 'EXPE', 'PARR', 'EXPD', 'OLED', 'CARG', 'MLNT', 'ORBC', 'RYN', 'LAD', 'NLOK', 'SSTI', 'FTNT', 'FBM', 'NWPX', 'CGI', 'GNRC', 'SOI', 'AMRK', 'EPAX', 'RAMP', 'IDA', 'CYBX', 'TREX', 'WCG', 'NWMH', 'POWR', 'ELX', 'IEX', 'LH', 'TPB', 'ELY', 'ALGI', 'AOUT', 'LOJN', 'CPRT', 'NANX', 'NMGX', 'GTEC', 'GHC', 'HLS', 'BRCM', 'LNCE', 'FREE', 'R', 'CLNE', 'FRED', 'ORA', 'MDCA', 'PWR', 'MBII', 'LVS', 'DORM', 'CMN', 'GOSS', 'SPLS', 'WLTW', 'ZNRG', 'TFM', 'TRMB', 'DXYN', 'RLD', 'RSI', 'AVY', 'AIT', 'LOCM', 'UTMD', 'AVX', 'APPF', 'BKS', 'MNRO', 'NBR', 'SSNT', 'VOCS', 'PXD', 'ISCA', 'BCYC', 'SIGA', 'WTTR', 'ZGNX', 'PLAG', 'VRTU', 'WM', 'FICO', 'SMTC', 'AXGN', 'TMST', 'USAP', 'LPG', 'SUPN', 'CLAR', 'YGYI', 'PTEK', 'MORF', 'AMAT', 'PQG', 'PRPO', 'MTRX', 'GEVO', 'PMCS', 'AIRW', 'NTLK', 'ADOM', 'UIS', 'TWLO', 'MYL', 'ROST', 'DHX', 'CGC', 'BLT', 'SGRP', 'BSX', 'JILL', 'HPQ', 'SPDC', 'WYNN', 'ABTL', 'MOCO', 'OSS', 'RGEN', 'PDCO', 'HSNI', 'HRL', 'SSKN', 'NXTC', 'TXRH', 'NMRX', 'MCZ', 'ROK', 'QTWO', 'TXMD', 'EXPO', 'AVYA', 'SNWV', 'WHR', 'FTI', 'HURN', 'CMPR', 'STAN', 'MAG', 'ULH', 'FIX', 'IMI', 'NDAQ', 'KTB', 'DY', 'SANW', 'EGAN', 'ETR', 'KN', 'XLNX', 'GWRE', 'HII', 'KO', 'RBA', 'SWCH', 'LEG', 'BERY', 'GPI', 'GKNT', 'FDS', 'PRGS', 'EGLE', 'IFMK', 'MSA', 'STLD', 'LNDC', 'MLM', 'GFF', 'CENX', 'NVTR', 'TSCO', 'AGCO', 'SBH', 'FIVN', 'BL', 'SCND', 'LINC', 'PNRA', 'LXRX', 'KTCC', 'PEER', 'RTN', 'BCC', 'ALIM', 'ISIL', 'PMD', 'CARS', 'SMA', 'WWAV', 'HRZL', 'UGI', 'JDSU', 'TSS', 'CLMT', 'EPAM', 'MWV', 'UTEK', 'MWW', 'TNC', 'RH', 'GILD', 'BKYI', 'PAYX', 'KBR', 'RRD', 'MBUU', 'LUB', 'SCHN', 'EVBG', 'DF', 'UNXL', 'SPRS', 'KEYS', 'IGTE', 'DG', 'FEYE', 'QLGN', 'LEAI', 'ROKA', 'PIR', 'CLB', 'RGLS', 'MCD', 'HOFT', 'HAIR', 'CLC', 'TRNS', 'GTMM', 'TCMD', 'DRQ', 'YCBD', 'QSFT', 'EVOL', 'IM', 'RAIL', 'IL', 'UFPI', 'BHC', 'STX', 'AES', 'XFOR', 'PFE', 'MEDP', 'ATRS', 'CSGP', 'CAI', 'CAH', 'AGN', 'DIT', 'RMKR', 'RRGB', 'TAT', 'MGM', 'OMCL', 'TECD', 'SDPI', 'LILA', 'HBI', 'SAJA', 'LNG', 'ENTL', 'NWL', 'RVM', 'BOXL', 'ARSD', 'FELE', 'DEL', 'VTG', 'NVEE', 'CFMS', 'IDSY', 'CTCT', 'CALM', 'MTX', 'CASA', 'HMHC', 'ABT', 'LW', 'FENX', 'WBA', 'ELF', 'RNWK', 'POWL', 'CFN', 'BMY', 'HOLX', 'IDXG', 'EXLS', 'PRTY', 'URI', 'WAIR', 'HAUP', 'LQDT', 'COHU', 'AMZN', 'TTGT', 'KWR', 'ULBI', 'AMSWA', 'EFII', 'JCI', 'BECN', 'SFLY', 'CLGX', 'RNG', 'ABCO', 'VERB', 'RNF', 'CMP', 'RKDA', 'ARTC', 'WINA', 'NOG', 'SYPR', 'STMH', 'NCLH', 'AMWD', 'INVE', 'IART', 'JIVE', 'PSMI', 'SRGA', 'TNAV', 'RCL', 'TTWO', 'SYMC', 'OVV', 'EHTH', 'GLT', 'USCR', 'PLCE', 'MGCD', 'TIE', 'QLIK', 'CVU', 'PFIN', 'FARM', 'CWCO', 'ATEN', 'ZNTL', 'GLIBA', 'DGLY', 'CEMI', 'BLKB', 'LPX', 'BCOR', 'IDCC', 'VNCE', 'UIL', 'LEDS', 'SPWH', 'BKTI', 'HBB', 'DXCM', 'NTRA', 'ASV', 'ENTG', 'POM', 'TEAR', 'CVIA', 'SRRK', 'EXTR', 'WSC', 'EVDY', 'MERU', 'ULGX', 'DVR', 'FAST', 'HAMP', 'ANF', 'ESCA', 'POOL', 'NILE', 'GRA', 'PESI', 'AGE', 'AQUA', 'ONXX', 'RVBD', 'CAB', 'SERV', 'IIIN', 'VNTR', 'CDLX', 'CATM', 'AEY', 'STS', 'SDI', 'XERS', 'CLH', 'MCO', 'DGII', 'PLOW', 'PKE', 'SYY', 'MAS', 'ANIK', 'ENOC', 'CKEC', 'SIBN', 'AMMX', 'PBF', 'ASUR', 'AAP', 'MN', 'GTT', 'PAYS', 'EVTC', 'MO', 'ERS', 'JAKK', 'COBR', 'LMOS', 'AMPH', 'ACM', 'TVTY', 'NUVA', 'ECHO', 'CTB', 'RDFN', 'NVT', 'ORLY', 'REMY', 'EPRS', 'NGVC', 'AXNX', 'TALO', 'LRN', 'CIR', 'APY', 'NKE', 'QDEL', 'SILK', 'ACLZ', 'NTI', 'PFIE', 'LMB', 'PSN', 'MYRG', 'RCEL', 'HAL', 'ROLL', 'CERN', 'ASRT', 'MOV', 'ANGO', 'MCOA', 'KBIO', 'DPLO', 'UCTT', 'DAN', 'SREV', 'UBX', 'ADK', 'CBM', 'INVN', 'MATW', 'INVO', 'NAUH', 'VTAE', 'SJM', 'SKAS', 'GNC', 'FET', 'PRFT', 'MDSO', 'QCOM', 'EXAR', 'TKR', 'GB', 'VERI', 'APRN', 'VTNR', 'INFU', 'CRV', 'VIDE', 'ALSN', 'VUZI', 'OPLK', 'LANC', 'TTEC', 'TFX', 'GERS', 'POAI', 'ZS', 'PRTS', 'GCI', 'LCUT', 'CPK', 'APPS', 'KATE', 'SP', 'SQ', 'HNZ', 'AMSG', 'QHC', 'BMS', 'RES', 'SND', 'SQI', 'WVVI', 'MIC', 'CYH', 'HLF', 'TRK', 'G', 'OMPS', 'MSCI', 'THRM', 'HSON'])"
      ]
     },
     "execution_count": 71,
     "metadata": {},
     "output_type": "execute_result"
    }
   ],
   "source": [
    "dt.keys()"
   ]
  },
  {
   "cell_type": "code",
   "execution_count": 72,
   "metadata": {},
   "outputs": [],
   "source": [
    "def parse_columns(df):\n",
    "    \"\"\"\n",
    "    Function to parse column names and remove the {ticker}: prefix.\n",
    "    \"\"\"\n",
    "    new_columns = []\n",
    "    for col in df.columns:\n",
    "        if \":\" in col:\n",
    "            ticker, real_col_name = col.split(\":\")\n",
    "            new_columns.append(real_col_name)\n",
    "        else:\n",
    "            new_columns.append(col)\n",
    "    return new_columns\n",
    "\n",
    "# Get the union of all column names across the DataFrames\n",
    "all_cols = set().union(*[set(parse_columns(df)) for df in dt.values()])\n",
    "list(all_cols)\n",
    "\n",
    "# Update the column names for each DataFrame\n",
    "for k in list(dt.keys()):\n",
    "    dt[k].columns = parse_columns(dt[k])\n",
    "    try:\n",
    "        dt[k] = dt[k].reindex(columns=all_cols, fill_value=0)\n",
    "    except Exception as e:\n",
    "        print(k, e)"
   ]
  },
  {
   "cell_type": "code",
   "execution_count": 73,
   "metadata": {},
   "outputs": [],
   "source": [
    "# nodes\n",
    "padded_tensors = []\n",
    "max_length = 7\n",
    "for df in dt.values():\n",
    "    num_cols = df.columns[df.dtypes != 'object']\n",
    "    df = df[num_cols]\n",
    "    # get first 7 rows\n",
    "    padded_tensor = torch.tensor(df.iloc[-7:].values.tolist())\n",
    "    # padded_tensor = torch.nn.functional.pad(padded_tensor, (0, 0, 0, max_length - len(df)))\n",
    "    padded_tensors.append(padded_tensor)\n",
    "# E = adj.repeat(len(dt), max_length, 1, 1)"
   ]
  },
  {
   "cell_type": "code",
   "execution_count": 74,
   "metadata": {},
   "outputs": [],
   "source": [
    "# T x batch size x features\n",
    "X = torch.stack(padded_tensors, dim=1)\n",
    "\n",
    "mean_tensor = torch.mean(X, dim=(0, 1), keepdim=True)\n",
    "std_tensor = torch.std(X, dim=(0, 1), unbiased=False, keepdim=True)\n",
    "X = (X - mean_tensor) / std_tensor\n",
    "X = X.permute(1, 0, 2)\n",
    "y = y_list"
   ]
  },
  {
   "cell_type": "markdown",
   "metadata": {},
   "source": [
    "# Model - Raw Data"
   ]
  },
  {
   "cell_type": "code",
   "execution_count": 75,
   "metadata": {},
   "outputs": [],
   "source": [
    "from sklearn.model_selection import train_test_split\n",
    "\n",
    "X_train, X_val, y_train, y_val = train_test_split(X, y, test_size=0.2, random_state=42)"
   ]
  },
  {
   "cell_type": "code",
   "execution_count": 76,
   "metadata": {},
   "outputs": [],
   "source": [
    "n_features = X.shape[2]  # Number of features"
   ]
  },
  {
   "cell_type": "code",
   "execution_count": 77,
   "metadata": {},
   "outputs": [],
   "source": [
    "# Create TensorDataset\n",
    "dataset = TensorDataset(X, torch.tensor(y))\n",
    "\n",
    "# Split the data into training and validation sets\n",
    "train_size = int(0.8 * len(dataset))\n",
    "val_size = len(dataset) - train_size\n",
    "train_dataset, val_dataset = torch.utils.data.random_split(dataset, [train_size, val_size])\n",
    "\n",
    "# Create DataLoaders\n",
    "batch_size = 32\n",
    "train_loader = DataLoader(train_dataset, batch_size=batch_size, shuffle=True)\n",
    "val_loader = DataLoader(val_dataset, batch_size=batch_size, shuffle=False)"
   ]
  },
  {
   "cell_type": "code",
   "execution_count": 78,
   "metadata": {},
   "outputs": [],
   "source": [
    "class LSTMModel(nn.Module):\n",
    "    def __init__(self, input_size, hidden_size, output_size):\n",
    "        super(LSTMModel, self).__init__()\n",
    "        self.hidden_size = hidden_size\n",
    "        self.lstm = nn.LSTM(input_size, hidden_size, batch_first=True)\n",
    "        self.fc = nn.Linear(hidden_size, output_size)\n",
    "\n",
    "    def forward(self, x):\n",
    "        batch_size = x.size(0)\n",
    "        h0 = torch.zeros(1, batch_size, self.hidden_size).requires_grad_()\n",
    "        c0 = torch.zeros(1, batch_size, self.hidden_size).requires_grad_()\n",
    "\n",
    "        _, (hn, _) = self.lstm(x, (h0, c0))\n",
    "        out = self.fc(hn.view(-1, self.hidden_size))\n",
    "        return out"
   ]
  },
  {
   "cell_type": "code",
   "execution_count": 79,
   "metadata": {},
   "outputs": [],
   "source": [
    "input_size = X.shape[2]  # Number of features\n",
    "output_size = 1  # Single output for price prediction\n",
    "hidden_size = 64  # Number of hidden units in the LSTM\n",
    "\n",
    "model = LSTMModel(input_size, hidden_size, output_size)\n",
    "criterion = nn.MSELoss()\n",
    "optimizer = torch.optim.Adam(model.parameters(), lr=0.001)"
   ]
  },
  {
   "cell_type": "code",
   "execution_count": 80,
   "metadata": {},
   "outputs": [
    {
     "name": "stderr",
     "output_type": "stream",
     "text": [
      "/Users/johnboesen/Documents/Code/#Harvard/220-proj/220-env/lib/python3.10/site-packages/torch/nn/modules/loss.py:535: UserWarning: Using a target size (torch.Size([32])) that is different to the input size (torch.Size([32, 1])). This will likely lead to incorrect results due to broadcasting. Please ensure they have the same size.\n",
      "  return F.mse_loss(input, target, reduction=self.reduction)\n",
      "/Users/johnboesen/Documents/Code/#Harvard/220-proj/220-env/lib/python3.10/site-packages/torch/nn/modules/loss.py:535: UserWarning: Using a target size (torch.Size([6])) that is different to the input size (torch.Size([6, 1])). This will likely lead to incorrect results due to broadcasting. Please ensure they have the same size.\n",
      "  return F.mse_loss(input, target, reduction=self.reduction)\n",
      "/Users/johnboesen/Documents/Code/#Harvard/220-proj/220-env/lib/python3.10/site-packages/torch/nn/modules/loss.py:535: UserWarning: Using a target size (torch.Size([18])) that is different to the input size (torch.Size([18, 1])). This will likely lead to incorrect results due to broadcasting. Please ensure they have the same size.\n",
      "  return F.mse_loss(input, target, reduction=self.reduction)\n"
     ]
    },
    {
     "name": "stdout",
     "output_type": "stream",
     "text": [
      "Epoch: 1, Train Loss: 2.8321, Val Loss: 0.0256\n",
      "Epoch: 51, Train Loss: 2.6520, Val Loss: 0.0213\n",
      "Epoch: 101, Train Loss: 2.6445, Val Loss: 0.0210\n",
      "Epoch: 151, Train Loss: 2.6430, Val Loss: 0.0212\n",
      "Epoch: 201, Train Loss: 2.6431, Val Loss: 0.0212\n",
      "Epoch: 251, Train Loss: 2.6429, Val Loss: 0.0211\n",
      "Epoch: 301, Train Loss: 2.6434, Val Loss: 0.0218\n",
      "Epoch: 351, Train Loss: 2.6431, Val Loss: 0.0213\n",
      "Epoch: 401, Train Loss: 2.6425, Val Loss: 0.0214\n",
      "Epoch: 451, Train Loss: 2.6431, Val Loss: 0.0211\n"
     ]
    }
   ],
   "source": [
    "epochs = 500\n",
    "\n",
    "for epoch in range(epochs):\n",
    "    train_loss = 0.0\n",
    "    val_loss = 0.0\n",
    "\n",
    "    # Training loop\n",
    "    model.train()\n",
    "    for inputs, targets in train_loader:\n",
    "        optimizer.zero_grad()\n",
    "        outputs = model(inputs)\n",
    "        loss = criterion(outputs, targets)\n",
    "        loss.backward()\n",
    "        optimizer.step()\n",
    "        train_loss += loss.item() * inputs.size(0)\n",
    "\n",
    "    # Validation loop\n",
    "    model.eval()\n",
    "    with torch.no_grad():\n",
    "        for inputs, targets in val_loader:\n",
    "            outputs = model(inputs)\n",
    "            loss = criterion(outputs, targets)\n",
    "            val_loss += loss.item() * inputs.size(0)\n",
    "\n",
    "    train_loss /= len(train_dataset)\n",
    "    val_loss /= len(val_dataset) * 10 \n",
    "    if epoch % 50 == 0:\n",
    "        print(f'Epoch: {epoch+1}, Train Loss: {train_loss:.4f}, Val Loss: {val_loss:.4f}')"
   ]
  },
  {
   "cell_type": "code",
   "execution_count": 81,
   "metadata": {},
   "outputs": [
    {
     "data": {
      "text/plain": [
       "0.2102630215946028"
      ]
     },
     "execution_count": 81,
     "metadata": {},
     "output_type": "execute_result"
    }
   ],
   "source": [
    "model.eval()\n",
    "with torch.no_grad():\n",
    "    for inputs, targets in val_loader:\n",
    "        outputs = model(inputs)\n",
    "        loss = criterion(outputs, targets)\n",
    "        if loss.item() < 50 or torch.any(outputs > 50):\n",
    "            val_loss += loss.item() * inputs.size(0)\n",
    "\n",
    "val_loss /= len(val_dataset)\n",
    "val_loss"
   ]
  },
  {
   "cell_type": "code",
   "execution_count": 82,
   "metadata": {},
   "outputs": [
    {
     "data": {
      "text/plain": [
       "tensor(0.0225)"
      ]
     },
     "execution_count": 82,
     "metadata": {},
     "output_type": "execute_result"
    }
   ],
   "source": [
    "torch.cat([x.squeeze(1) for x in preds], dim=0).std()"
   ]
  },
  {
   "cell_type": "markdown",
   "metadata": {},
   "source": [
    "# Model - PCA Data"
   ]
  },
  {
   "cell_type": "code",
   "execution_count": 83,
   "metadata": {},
   "outputs": [],
   "source": [
    "X_pca = X.reshape(-1, X.shape[-1])\n",
    "\n",
    "pca = PCA().fit(X_pca)"
   ]
  },
  {
   "cell_type": "code",
   "execution_count": 84,
   "metadata": {},
   "outputs": [
    {
     "data": {
      "image/png": "[encoded data removed]",
      "text/plain": [
       "<Figure size 640x480 with 1 Axes>"
      ]
     },
     "metadata": {},
     "output_type": "display_data"
    },
    {
     "name": "stdout",
     "output_type": "stream",
     "text": [
      "Optimal number of dimensions: 15\n"
     ]
    }
   ],
   "source": [
    "evr = pca.explained_variance_ratio_\n",
    "# Calculate the cumulative sum of the explained variance ratio\n",
    "cumulative_var_ratio = np.cumsum(evr)\n",
    "\n",
    "# Plot the cumulative sum of the explained variance ratio\n",
    "plt.plot(range(1, len(cumulative_var_ratio) + 1), cumulative_var_ratio)\n",
    "plt.xlabel('Number of dimensions')\n",
    "plt.ylabel('Cumulative explained variance ratio')\n",
    "plt.title('Explained variance ratio vs. Number of dimensions')\n",
    "plt.show()\n",
    "\n",
    "# Find the optimal number of dimensions\n",
    "optimal_dim = np.argmax(cumulative_var_ratio >= 0.80) + 1\n",
    "print('Optimal number of dimensions:', optimal_dim)\n"
   ]
  },
  {
   "cell_type": "code",
   "execution_count": 85,
   "metadata": {},
   "outputs": [],
   "source": [
    "pca = PCA(n_components=optimal_dim)\n",
    "pca = pca.fit(X_pca)"
   ]
  },
  {
   "cell_type": "code",
   "execution_count": 86,
   "metadata": {},
   "outputs": [],
   "source": [
    "X_compressed = torch.zeros(X.shape[0], X.shape[1], optimal_dim)\n",
    "for k in range(X.shape[0]):\n",
    "    X_compressed[k, :, :] = torch.tensor(pca.transform(X[k, :, :]))\n",
    "\n",
    "X_compressed_val = torch.zeros(X_val.shape[0], X_val.shape[1], optimal_dim)\n",
    "for k in range(X_val.shape[0]):\n",
    "    X_compressed_val[k, :, :] = torch.tensor(pca.transform(X[k, :, :]))"
   ]
  },
  {
   "cell_type": "code",
   "execution_count": 87,
   "metadata": {},
   "outputs": [],
   "source": [
    "# Create TensorDataset\n",
    "dataset = TensorDataset(X_compressed, torch.tensor(y))\n",
    "\n",
    "# Split the data into training and validation sets\n",
    "train_size = int(0.8 * len(dataset))\n",
    "val_size = len(dataset) - train_size\n",
    "train_dataset, val_dataset = torch.utils.data.random_split(dataset, [train_size, val_size])\n",
    "\n",
    "# Create DataLoaders\n",
    "batch_size = 32\n",
    "train_loader = DataLoader(train_dataset, batch_size=batch_size, shuffle=True)\n",
    "val_loader = DataLoader(val_dataset, batch_size=batch_size, shuffle=False)"
   ]
  },
  {
   "cell_type": "code",
   "execution_count": 88,
   "metadata": {},
   "outputs": [],
   "source": [
    "input_size = X_compressed.shape[2]  # Number of features\n",
    "output_size = 1  # Single output for price prediction\n",
    "hidden_size = 64  # Number of hidden units in the LSTM\n",
    "\n",
    "model = LSTMModel(input_size, hidden_size, output_size)\n",
    "criterion = nn.MSELoss()\n",
    "optimizer = torch.optim.Adam(model.parameters(), lr=0.001)"
   ]
  },
  {
   "cell_type": "code",
   "execution_count": 89,
   "metadata": {},
   "outputs": [
    {
     "name": "stderr",
     "output_type": "stream",
     "text": [
      "/Users/johnboesen/Documents/Code/#Harvard/220-proj/220-env/lib/python3.10/site-packages/torch/nn/modules/loss.py:535: UserWarning: Using a target size (torch.Size([32])) that is different to the input size (torch.Size([32, 1])). This will likely lead to incorrect results due to broadcasting. Please ensure they have the same size.\n",
      "  return F.mse_loss(input, target, reduction=self.reduction)\n",
      "/Users/johnboesen/Documents/Code/#Harvard/220-proj/220-env/lib/python3.10/site-packages/torch/nn/modules/loss.py:535: UserWarning: Using a target size (torch.Size([6])) that is different to the input size (torch.Size([6, 1])). This will likely lead to incorrect results due to broadcasting. Please ensure they have the same size.\n",
      "  return F.mse_loss(input, target, reduction=self.reduction)\n",
      "/Users/johnboesen/Documents/Code/#Harvard/220-proj/220-env/lib/python3.10/site-packages/torch/nn/modules/loss.py:535: UserWarning: Using a target size (torch.Size([18])) that is different to the input size (torch.Size([18, 1])). This will likely lead to incorrect results due to broadcasting. Please ensure they have the same size.\n",
      "  return F.mse_loss(input, target, reduction=self.reduction)\n"
     ]
    },
    {
     "name": "stdout",
     "output_type": "stream",
     "text": [
      "Epoch: 1, Train Loss: 0.9311, Val Loss: 8.8665\n",
      "Epoch: 11, Train Loss: 0.4978, Val Loss: 8.8038\n",
      "Epoch: 21, Train Loss: 0.4952, Val Loss: 8.7852\n",
      "Epoch: 31, Train Loss: 0.4973, Val Loss: 8.8108\n",
      "Epoch: 41, Train Loss: 0.4972, Val Loss: 8.7886\n",
      "Epoch: 51, Train Loss: 0.4962, Val Loss: 8.8060\n",
      "Epoch: 61, Train Loss: 0.4956, Val Loss: 8.7964\n",
      "Epoch: 71, Train Loss: 0.4955, Val Loss: 8.8019\n",
      "Epoch: 81, Train Loss: 0.4955, Val Loss: 8.7956\n",
      "Epoch: 91, Train Loss: 0.4955, Val Loss: 8.7975\n",
      "Epoch: 101, Train Loss: 0.4958, Val Loss: 8.8150\n",
      "Epoch: 111, Train Loss: 0.4968, Val Loss: 8.7864\n",
      "Epoch: 121, Train Loss: 0.4961, Val Loss: 8.8011\n",
      "Epoch: 131, Train Loss: 0.4959, Val Loss: 8.7905\n",
      "Epoch: 141, Train Loss: 0.4970, Val Loss: 8.7859\n",
      "Epoch: 151, Train Loss: 0.4969, Val Loss: 8.7981\n",
      "Epoch: 161, Train Loss: 0.4965, Val Loss: 8.8130\n",
      "Epoch: 171, Train Loss: 0.4955, Val Loss: 8.8003\n",
      "Epoch: 181, Train Loss: 0.4953, Val Loss: 8.8098\n",
      "Epoch: 191, Train Loss: 0.4954, Val Loss: 8.7978\n",
      "Epoch: 201, Train Loss: 0.4957, Val Loss: 8.8009\n",
      "Epoch: 211, Train Loss: 0.4962, Val Loss: 8.7991\n",
      "Epoch: 221, Train Loss: 0.4965, Val Loss: 8.8020\n",
      "Epoch: 231, Train Loss: 0.4958, Val Loss: 8.8013\n",
      "Epoch: 241, Train Loss: 0.4943, Val Loss: 8.7913\n",
      "Epoch: 251, Train Loss: 0.4956, Val Loss: 8.7965\n",
      "Epoch: 261, Train Loss: 0.4955, Val Loss: 8.8053\n",
      "Epoch: 271, Train Loss: 0.4952, Val Loss: 8.8001\n",
      "Epoch: 281, Train Loss: 0.4960, Val Loss: 8.7942\n",
      "Epoch: 291, Train Loss: 0.4952, Val Loss: 8.8010\n",
      "Epoch: 301, Train Loss: 0.4967, Val Loss: 8.7899\n",
      "Epoch: 311, Train Loss: 0.4955, Val Loss: 8.7976\n",
      "Epoch: 321, Train Loss: 0.4956, Val Loss: 8.7981\n",
      "Epoch: 331, Train Loss: 0.5006, Val Loss: 8.8022\n",
      "Epoch: 341, Train Loss: 0.4954, Val Loss: 8.7970\n",
      "Epoch: 351, Train Loss: 0.4951, Val Loss: 8.8035\n",
      "Epoch: 361, Train Loss: 0.4953, Val Loss: 8.7985\n",
      "Epoch: 371, Train Loss: 0.4962, Val Loss: 8.8007\n",
      "Epoch: 381, Train Loss: 0.4948, Val Loss: 8.7869\n",
      "Epoch: 391, Train Loss: 0.4957, Val Loss: 8.8040\n",
      "Epoch: 401, Train Loss: 0.4948, Val Loss: 8.8004\n",
      "Epoch: 411, Train Loss: 0.4949, Val Loss: 8.8064\n",
      "Epoch: 421, Train Loss: 0.4955, Val Loss: 8.8018\n",
      "Epoch: 431, Train Loss: 0.4951, Val Loss: 8.8063\n",
      "Epoch: 441, Train Loss: 0.4953, Val Loss: 8.7953\n",
      "Epoch: 451, Train Loss: 0.4948, Val Loss: 8.8035\n",
      "Epoch: 461, Train Loss: 0.4949, Val Loss: 8.7907\n",
      "Epoch: 471, Train Loss: 0.4953, Val Loss: 8.8007\n",
      "Epoch: 481, Train Loss: 0.4950, Val Loss: 8.7979\n",
      "Epoch: 491, Train Loss: 0.4953, Val Loss: 8.7944\n"
     ]
    }
   ],
   "source": [
    "epochs = 500\n",
    "\n",
    "for epoch in range(epochs):\n",
    "    train_loss = 0.0\n",
    "    val_loss = 0.0\n",
    "\n",
    "    # Training loop\n",
    "    model.train()\n",
    "    for inputs, targets in train_loader:\n",
    "        optimizer.zero_grad()\n",
    "        outputs = model(inputs)\n",
    "        loss = criterion(outputs, targets)\n",
    "        loss.backward()\n",
    "        optimizer.step()\n",
    "        train_loss += loss.item() * inputs.size(0)\n",
    "\n",
    "    # Validation loop\n",
    "    model.eval()\n",
    "    with torch.no_grad():\n",
    "        for inputs, targets in val_loader:\n",
    "            outputs = model(inputs)\n",
    "            loss = criterion(outputs, targets)\n",
    "            val_loss += loss.item() * inputs.size(0)\n",
    "\n",
    "    train_loss /= len(train_dataset)\n",
    "    val_loss /= len(val_dataset)\n",
    "    if epoch % 10 == 0:\n",
    "        print(f'Epoch: {epoch+1}, Train Loss: {train_loss:.4f}, Val Loss: {val_loss:.4f}')"
   ]
  },
  {
   "cell_type": "code",
   "execution_count": 90,
   "metadata": {},
   "outputs": [
    {
     "data": {
      "text/plain": [
       "torch.Size([466, 7, 15])"
      ]
     },
     "execution_count": 90,
     "metadata": {},
     "output_type": "execute_result"
    }
   ],
   "source": [
    "X_compressed_val.shape"
   ]
  },
  {
   "cell_type": "code",
   "execution_count": 91,
   "metadata": {},
   "outputs": [
    {
     "data": {
      "text/plain": [
       "0.1462570931843771"
      ]
     },
     "execution_count": 91,
     "metadata": {},
     "output_type": "execute_result"
    }
   ],
   "source": [
    "model.eval()\n",
    "preds = []\n",
    "with torch.no_grad():\n",
    "    for inputs, targets in val_loader:\n",
    "        outputs = model(inputs)\n",
    "        preds.append(outputs)\n",
    "        loss = criterion(outputs, targets)\n",
    "        if loss.item() < 50 or torch.any(outputs > 50):\n",
    "            val_loss += loss.item() * inputs.size(0)\n",
    "\n",
    "val_loss /= len(val_dataset)\n",
    "val_loss"
   ]
  },
  {
   "cell_type": "code",
   "execution_count": 92,
   "metadata": {},
   "outputs": [
    {
     "data": {
      "text/plain": [
       "tensor(0.0206)"
      ]
     },
     "execution_count": 92,
     "metadata": {},
     "output_type": "execute_result"
    }
   ],
   "source": [
    "torch.cat([x.squeeze(1) for x in preds], dim=0).std()"
   ]
  }
 ],
 "metadata": {
  "kernelspec": {
   "display_name": "220-env",
   "language": "python",
   "name": "python3"
  },
  "language_info": {
   "codemirror_mode": {
    "name": "ipython",
    "version": 3
   },
   "file_extension": ".py",
   "mimetype": "text/x-python",
   "name": "python",
   "nbconvert_exporter": "python",
   "pygments_lexer": "ipython3",
   "version": "3.10.11"
  }
 },
 "nbformat": 4,
 "nbformat_minor": 2
}
