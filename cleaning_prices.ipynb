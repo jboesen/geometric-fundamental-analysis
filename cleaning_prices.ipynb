{
 "cells": [
  {
   "cell_type": "code",
   "execution_count": null,
   "metadata": {},
   "outputs": [],
   "source": [
    "import os\n",
    "import json\n",
    "import pandas as pd\n",
    "import numpy as np\n",
    "import curvlearn as cv\n",
    "from curvlearn.manifolds.manifold import Manifold\n",
    "import torch\n",
    "import torch.nn as nn\n",
    "from sklearn.feature_selection import mutual_info_regression\n",
    "from sklearn.preprocessing import MinMaxScaler\n",
    "from diffpool_helpers.model.diffpool_continuous import TSDiffPool\n",
    "import argparse\n",
    "import time\n",
    "import random\n",
    "from functools import lru_cache\n",
    "import networkx as nx\n",
    "import yfinance\n",
    "import numpy as np\n",
    "import pandas as pd\n",
    "import yfinance as yf\n",
    "from datetime import timedelta\n",
    "import datetime\n",
    "import requests\n",
    "import dgl"
   ]
  },
  {
   "cell_type": "markdown",
   "metadata": {},
   "source": [
    "# Getting Data"
   ]
  },
  {
   "cell_type": "markdown",
   "metadata": {},
   "source": [
    "## Import X"
   ]
  },
  {
   "cell_type": "code",
   "execution_count": 2,
   "metadata": {},
   "outputs": [],
   "source": [
    "dt = {}\n",
    "all_cols = None\n",
    "for file in os.listdir('imputed_data'):\n",
    "    if file.endswith('.csv'):\n",
    "        k = file.split('_')[0]\n",
    "        dt[k] = pd.read_csv(os.path.join('imputed_data', file))"
   ]
  },
  {
   "cell_type": "code",
   "execution_count": 3,
   "metadata": {},
   "outputs": [],
   "source": [
    "dt = {k: v for k, v in dt.items() if len(v) >= 7 and len(v.columns) >= 5}"
   ]
  },
  {
   "cell_type": "code",
   "execution_count": 4,
   "metadata": {},
   "outputs": [],
   "source": [
    "for k in dt:\n",
    "    try:\n",
    "        dt[k].index = dt[k][\"index\"]\n",
    "    except:\n",
    "        print(k, dt[k].columns)"
   ]
  },
  {
   "cell_type": "code",
   "execution_count": 5,
   "metadata": {},
   "outputs": [
    {
     "data": {
      "text/plain": [
       "array([32, 33, 34, 35, 36, 37, 38, 39, 40, 41, 42, 43, 44, 45, 46, 47, 48,\n",
       "       49])"
      ]
     },
     "execution_count": 5,
     "metadata": {},
     "output_type": "execute_result"
    }
   ],
   "source": [
    "np.unique([len(df.columns) for df in dt.values()])"
   ]
  },
  {
   "cell_type": "code",
   "execution_count": 6,
   "metadata": {},
   "outputs": [],
   "source": [
    "def parse_columns(df):\n",
    "    \"\"\"\n",
    "    Function to parse column names and remove the {ticker}: prefix.\n",
    "    \"\"\"\n",
    "    new_columns = []\n",
    "    for col in df.columns:\n",
    "        if \":\" in col:\n",
    "            ticker, real_col_name = col.split(\":\")\n",
    "            new_columns.append(real_col_name)\n",
    "        else:\n",
    "            new_columns.append(col)\n",
    "    return new_columns\n",
    "\n",
    "# Get the union of all column names across the DataFrames\n",
    "all_cols = set().union(*[set(parse_columns(df)) for df in dt.values()])\n",
    "list(all_cols)\n",
    "\n",
    "# Update the column names for each DataFrame\n",
    "for k in list(dt.keys()):\n",
    "    dt[k].columns = parse_columns(dt[k])\n",
    "    try:\n",
    "        dt[k] = dt[k].reindex(columns=all_cols, fill_value=0)\n",
    "    except Exception as e:\n",
    "        print(k, e)"
   ]
  },
  {
   "cell_type": "code",
   "execution_count": 7,
   "metadata": {},
   "outputs": [],
   "source": [
    "def decrement_quarter(quarter_str):\n",
    "    year = int(quarter_str[:4])\n",
    "    quarter = int(quarter_str[-1])\n",
    "\n",
    "    if quarter == 1:\n",
    "        year -= 1\n",
    "        quarter = 4\n",
    "    else:\n",
    "        quarter -= 1\n",
    "\n",
    "    return f\"{year}Q{quarter}\"\n"
   ]
  },
  {
   "cell_type": "code",
   "execution_count": 8,
   "metadata": {},
   "outputs": [
    {
     "data": {
      "text/plain": [
       "array([57])"
      ]
     },
     "execution_count": 8,
     "metadata": {},
     "output_type": "execute_result"
    }
   ],
   "source": [
    "np.unique([len(df.columns) for df in dt.values()])"
   ]
  },
  {
   "cell_type": "markdown",
   "metadata": {},
   "source": [
    "## Import Y"
   ]
  },
  {
   "cell_type": "code",
   "execution_count": 9,
   "metadata": {},
   "outputs": [],
   "source": [
    "bulk_prices = {}\n",
    "all_cols = None\n",
    "for file in os.listdir('bulk_prices_data'):\n",
    "    if file.endswith('.csv'):\n",
    "        k = file.split('_')[0]\n",
    "        bulk_prices[k] = pd.read_csv(os.path.join('bulk_prices_data', file))"
   ]
  },
  {
   "cell_type": "markdown",
   "metadata": {},
   "source": [
    "# Clean Y"
   ]
  },
  {
   "cell_type": "code",
   "execution_count": 10,
   "metadata": {},
   "outputs": [],
   "source": [
    "def q_to_date(year, quarter):\n",
    "    if quarter == 1:\n",
    "        return datetime.datetime(year, 3, 31, 14, 59)\n",
    "    elif quarter == 2:\n",
    "        return datetime.datetime(year, 6, 30, 14, 59)\n",
    "    elif quarter == 3:\n",
    "        return datetime.datetime(year, 9, 30, 14, 59)\n",
    "    elif quarter == 4:\n",
    "        return datetime.datetime(year, 12, 31, 14, 59)\n",
    "    else:\n",
    "        raise ValueError(\"Quarter should be between 1 and 4.\")\n",
    "\n",
    "def qstr_to_date(yq_str):\n",
    "    return q_to_date(int(yq_str[:4]), int(yq_str[-1]))"
   ]
  },
  {
   "cell_type": "code",
   "execution_count": 11,
   "metadata": {},
   "outputs": [],
   "source": [
    "def date_to_qstr(date):\n",
    "    year = date.year\n",
    "    quarter = 0\n",
    "    month = date.month\n",
    "    if month >= 1 and month <= 3:\n",
    "        quarter = 1\n",
    "    elif month >= 4 and month <= 6:\n",
    "        quarter = 2\n",
    "    elif month >= 7 and month <= 9:\n",
    "        quarter = 3\n",
    "    elif month >= 10 and month <= 12:\n",
    "        quarter = 4\n",
    "    return f\"{date.year}Q{quarter}\""
   ]
  },
  {
   "cell_type": "code",
   "execution_count": 12,
   "metadata": {},
   "outputs": [],
   "source": [
    "def to_weekday(cur_date):\n",
    "    if cur_date.weekday() >= 5:\n",
    "        if cur_date.weekday() == 5:  # Saturday\n",
    "            cur_date -= datetime.timedelta(days=1)\n",
    "        else:  # Sunday\n",
    "            cur_date -= datetime.timedelta(days=2)\n",
    "    return cur_date"
   ]
  },
  {
   "cell_type": "code",
   "execution_count": null,
   "metadata": {},
   "outputs": [],
   "source": [
    "num_features = dt[list(dt.keys())[0]].shape[1]\n",
    "\n",
    "# Tensor to store the data\n",
    "Y = {}\n",
    "QUARTER = timedelta(days=91)\n",
    "\n",
    "missing = []\n",
    "# Iterate over each stock\n",
    "filtered_dt = {}\n",
    "for i, (k, df) in enumerate(dt.items()):\n",
    "    # Get the last row and quarter\n",
    "    last_row = df.iloc[-1]\n",
    "    last_quarter = last_row.name\n",
    "    penultimate_quarter = df.iloc[-2].name\n",
    "    year, quarter = last_quarter.split('Q')\n",
    "    cur_date = q_to_date(int(year), int(quarter))\n",
    "    df = df.drop(df.tail(1).index)\n",
    "    try:\n",
    "        last_price = float(bulk_prices[last_quarter].loc[bulk_prices[last_quarter][\"code\"] == k, \"close\"].iloc[0])\n",
    "        pen_price = float(bulk_prices[penultimate_quarter].loc[bulk_prices[penultimate_quarter][\"code\"] == k, \"close\"].iloc[0])\n",
    "        # Get the stock price for the current quarter\n",
    "        Y[k] = last_price / pen_price\n",
    "        filtered_dt[k] = df\n",
    "    except Exception as e:\n",
    "        print(repr(e))\n",
    "        missing.append(k)\n",
    "    # if not breaker: filtered_dt[k] = df"
   ]
  },
  {
   "cell_type": "code",
   "execution_count": 14,
   "metadata": {},
   "outputs": [
    {
     "data": {
      "text/plain": [
       "2328"
      ]
     },
     "execution_count": 14,
     "metadata": {},
     "output_type": "execute_result"
    }
   ],
   "source": [
    "len(filtered_dt)"
   ]
  },
  {
   "cell_type": "code",
   "execution_count": null,
   "metadata": {},
   "outputs": [],
   "source": [
    "import matplotlib.pyplot as plt\n",
    "plt.hist(list(Y.values()), bins=50)"
   ]
  },
  {
   "cell_type": "code",
   "execution_count": 16,
   "metadata": {},
   "outputs": [],
   "source": [
    "if not os.path.exists('./filtered_dt_428'):\n",
    "    os.makedirs('./filtered_dt_428')\n",
    "for k, data in filtered_dt.items():\n",
    "    data.to_csv(f'./filtered_dt_428/{k}_data.csv')"
   ]
  },
  {
   "cell_type": "code",
   "execution_count": null,
   "metadata": {},
   "outputs": [],
   "source": [
    "np.unique([len(df.columns) for df in dt.values()])"
   ]
  },
  {
   "cell_type": "code",
   "execution_count": 18,
   "metadata": {},
   "outputs": [],
   "source": [
    "# export dictionary Y\n",
    "with open('Y.json', 'w') as f:\n",
    "    json.dump(Y, f)"
   ]
  }
 ],
 "metadata": {
  "kernelspec": {
   "display_name": "220-env",
   "language": "python",
   "name": "python3"
  },
  "language_info": {
   "codemirror_mode": {
    "name": "ipython",
    "version": 3
   },
   "file_extension": ".py",
   "mimetype": "text/x-python",
   "name": "python",
   "nbconvert_exporter": "python",
   "pygments_lexer": "ipython3",
   "version": "3.10.11"
  }
 },
 "nbformat": 4,
 "nbformat_minor": 2
}
