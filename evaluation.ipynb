{
 "cells": [
  {
   "cell_type": "code",
   "execution_count": 2,
   "metadata": {},
   "outputs": [],
   "source": [
    "import torch\n",
    "import pickle\n",
    "import torch.nn as nn\n",
    "import numpy as np\n",
    "import matplotlib.pyplot as plt"
   ]
  },
  {
   "cell_type": "code",
   "execution_count": 3,
   "metadata": {},
   "outputs": [
    {
     "name": "stderr",
     "output_type": "stream",
     "text": [
      "/Users/johnboesen/Documents/Code/#Harvard/220-proj/220-env/lib/python3.10/site-packages/tqdm/auto.py:21: TqdmWarning: IProgress not found. Please update jupyter and ipywidgets. See https://ipywidgets.readthedocs.io/en/stable/user_install.html\n",
      "  from .autonotebook import tqdm as notebook_tqdm\n"
     ]
    }
   ],
   "source": [
    "model_names = [\n",
    "    'model_51_3_PL.pkl',\n",
    "    'model_51_4_FL.pkl',\n",
    "    'model_429_3_FL.pkl',\n",
    "    'model_52_4_PL.pkl',\n",
    "]\n",
    "models = []\n",
    "for m in model_names:\n",
    "    with open(m, 'rb') as file:\n",
    "        cur_model = pickle.load(file)        \n",
    "        cur_model = cur_model.to(torch.float32)\n",
    "        models.append(cur_model)"
   ]
  },
  {
   "cell_type": "code",
   "execution_count": 4,
   "metadata": {},
   "outputs": [],
   "source": [
    "with open('test_set.pkl', 'rb') as file:\n",
    "    test_set = pickle.load(file)"
   ]
  },
  {
   "cell_type": "code",
   "execution_count": 5,
   "metadata": {},
   "outputs": [],
   "source": [
    "def test_model(model):\n",
    "    test_losses = []\n",
    "    y_preds = []\n",
    "    simple_loss = nn.MSELoss(reduction='mean')\n",
    "    for batch_graph, graph_labels in test_set:\n",
    "        if torch.cuda.is_available():\n",
    "            batch_graph = batch_graph.to(torch.cuda.current_device())\n",
    "            graph_labels = graph_labels.cuda()\n",
    "        model.eval()\n",
    "        with torch.no_grad():\n",
    "            batch_graph.ndata['feat'] = batch_graph.ndata['feat'].float()\n",
    "            ypred = model(batch_graph)\n",
    "            y_preds.append(ypred)\n",
    "            loss = simple_loss(ypred, torch.tensor([graph_labels], dtype=torch.float32))\n",
    "            if loss.item() < 50 or torch.any(ypred > 50): # Throw out outliers\n",
    "                test_losses.append(loss.item())\n",
    "    return test_losses, y_preds"
   ]
  },
  {
   "cell_type": "code",
   "execution_count": 6,
   "metadata": {},
   "outputs": [
    {
     "name": "stderr",
     "output_type": "stream",
     "text": [
      "/Users/johnboesen/Documents/Code/#Harvard/220-proj/220-env/lib/python3.10/site-packages/torch/nn/modules/loss.py:535: UserWarning: Using a target size (torch.Size([1])) that is different to the input size (torch.Size([20])). This will likely lead to incorrect results due to broadcasting. Please ensure they have the same size.\n",
      "  return F.mse_loss(input, target, reduction=self.reduction)\n",
      "/Users/johnboesen/Documents/Code/#Harvard/220-proj/220-env/lib/python3.10/site-packages/torch/nn/modules/loss.py:535: UserWarning: Using a target size (torch.Size([1])) that is different to the input size (torch.Size([2])). This will likely lead to incorrect results due to broadcasting. Please ensure they have the same size.\n",
      "  return F.mse_loss(input, target, reduction=self.reduction)\n"
     ]
    }
   ],
   "source": [
    "losses, preds = [], []\n",
    "for i in range(4):\n",
    "    l, p = test_model(models[i])\n",
    "    losses.append(np.mean(l))\n",
    "    preds.append(p)"
   ]
  },
  {
   "cell_type": "code",
   "execution_count": 8,
   "metadata": {},
   "outputs": [
    {
     "data": {
      "text/plain": [
       "[0.09695915738424367,\n",
       " 0.09107174038350502,\n",
       " 0.08946332325209448,\n",
       " 0.09201357442602191]"
      ]
     },
     "execution_count": 8,
     "metadata": {},
     "output_type": "execute_result"
    }
   ],
   "source": [
    "[np.mean(x) for x in losses]"
   ]
  },
  {
   "cell_type": "markdown",
   "metadata": {},
   "source": [
    "## Standard Deviation"
   ]
  },
  {
   "cell_type": "code",
   "execution_count": 17,
   "metadata": {},
   "outputs": [
    {
     "data": {
      "text/plain": [
       "[0.055967025, 0.037011605, 0.0030940175, 0.045427382]"
      ]
     },
     "execution_count": 17,
     "metadata": {},
     "output_type": "execute_result"
    }
   ],
   "source": [
    "[np.array(x).std() for x in preds]"
   ]
  },
  {
   "cell_type": "code",
   "execution_count": 27,
   "metadata": {},
   "outputs": [
    {
     "data": {
      "text/plain": [
       "0.5672559838298923"
      ]
     },
     "execution_count": 27,
     "metadata": {},
     "output_type": "execute_result"
    }
   ],
   "source": [
    "np.array([x[1] for x in test_set if x[1] < 50]).std()"
   ]
  }
 ],
 "metadata": {
  "kernelspec": {
   "display_name": "220-env",
   "language": "python",
   "name": "python3"
  },
  "language_info": {
   "codemirror_mode": {
    "name": "ipython",
    "version": 3
   },
   "file_extension": ".py",
   "mimetype": "text/x-python",
   "name": "python",
   "nbconvert_exporter": "python",
   "pygments_lexer": "ipython3",
   "version": "3.10.11"
  }
 },
 "nbformat": 4,
 "nbformat_minor": 2
}
